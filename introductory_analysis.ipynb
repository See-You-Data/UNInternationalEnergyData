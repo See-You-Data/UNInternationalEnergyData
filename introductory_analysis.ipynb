{
 "cells": [
  {
   "cell_type": "code",
   "execution_count": 34,
   "metadata": {},
   "outputs": [],
   "source": [
    "import pandas as pd\n",
    "import numpy as np\n",
    "import matplotlib.pyplot as plt\n",
    "import seaborn as sns"
   ]
  },
  {
   "cell_type": "code",
   "execution_count": 35,
   "metadata": {},
   "outputs": [],
   "source": [
    "for i in range(1,13):\n",
    "    if i == 1:\n",
    "        df = pd.read_csv('raw_data/all_energy_statistics' + str(i) +'.csv')\n",
    "        df_cols = df.columns.to_list()\n",
    "    else:\n",
    "        df1 = pd.read_csv('raw_data/all_energy_statistics' + str(i) + '.csv',header=None)\n",
    "        df1.columns = df_cols\n",
    "        df = df.append(df1) "
   ]
  },
  {
   "cell_type": "code",
   "execution_count": 36,
   "metadata": {},
   "outputs": [
    {
     "data": {
      "text/html": [
       "<div>\n",
       "<style scoped>\n",
       "    .dataframe tbody tr th:only-of-type {\n",
       "        vertical-align: middle;\n",
       "    }\n",
       "\n",
       "    .dataframe tbody tr th {\n",
       "        vertical-align: top;\n",
       "    }\n",
       "\n",
       "    .dataframe thead th {\n",
       "        text-align: right;\n",
       "    }\n",
       "</style>\n",
       "<table border=\"1\" class=\"dataframe\">\n",
       "  <thead>\n",
       "    <tr style=\"text-align: right;\">\n",
       "      <th></th>\n",
       "      <th>country_or_area</th>\n",
       "      <th>commodity_transaction</th>\n",
       "      <th>year</th>\n",
       "      <th>unit</th>\n",
       "      <th>quantity</th>\n",
       "      <th>quantity_footnotes</th>\n",
       "      <th>category</th>\n",
       "    </tr>\n",
       "  </thead>\n",
       "  <tbody>\n",
       "    <tr>\n",
       "      <th>0</th>\n",
       "      <td>Austria</td>\n",
       "      <td>Additives and Oxygenates - Exports</td>\n",
       "      <td>1996</td>\n",
       "      <td>Metric tons,  thousand</td>\n",
       "      <td>5.0</td>\n",
       "      <td>NaN</td>\n",
       "      <td>additives_and_oxygenates</td>\n",
       "    </tr>\n",
       "    <tr>\n",
       "      <th>1</th>\n",
       "      <td>Austria</td>\n",
       "      <td>Additives and Oxygenates - Exports</td>\n",
       "      <td>1995</td>\n",
       "      <td>Metric tons,  thousand</td>\n",
       "      <td>17.0</td>\n",
       "      <td>NaN</td>\n",
       "      <td>additives_and_oxygenates</td>\n",
       "    </tr>\n",
       "    <tr>\n",
       "      <th>2</th>\n",
       "      <td>Belgium</td>\n",
       "      <td>Additives and Oxygenates - Exports</td>\n",
       "      <td>2014</td>\n",
       "      <td>Metric tons,  thousand</td>\n",
       "      <td>0.0</td>\n",
       "      <td>NaN</td>\n",
       "      <td>additives_and_oxygenates</td>\n",
       "    </tr>\n",
       "    <tr>\n",
       "      <th>3</th>\n",
       "      <td>Belgium</td>\n",
       "      <td>Additives and Oxygenates - Exports</td>\n",
       "      <td>2013</td>\n",
       "      <td>Metric tons,  thousand</td>\n",
       "      <td>0.0</td>\n",
       "      <td>NaN</td>\n",
       "      <td>additives_and_oxygenates</td>\n",
       "    </tr>\n",
       "    <tr>\n",
       "      <th>4</th>\n",
       "      <td>Belgium</td>\n",
       "      <td>Additives and Oxygenates - Exports</td>\n",
       "      <td>2012</td>\n",
       "      <td>Metric tons,  thousand</td>\n",
       "      <td>35.0</td>\n",
       "      <td>NaN</td>\n",
       "      <td>additives_and_oxygenates</td>\n",
       "    </tr>\n",
       "  </tbody>\n",
       "</table>\n",
       "</div>"
      ],
      "text/plain": [
       "  country_or_area               commodity_transaction  year  \\\n",
       "0         Austria  Additives and Oxygenates - Exports  1996   \n",
       "1         Austria  Additives and Oxygenates - Exports  1995   \n",
       "2         Belgium  Additives and Oxygenates - Exports  2014   \n",
       "3         Belgium  Additives and Oxygenates - Exports  2013   \n",
       "4         Belgium  Additives and Oxygenates - Exports  2012   \n",
       "\n",
       "                     unit  quantity  quantity_footnotes  \\\n",
       "0  Metric tons,  thousand       5.0                 NaN   \n",
       "1  Metric tons,  thousand      17.0                 NaN   \n",
       "2  Metric tons,  thousand       0.0                 NaN   \n",
       "3  Metric tons,  thousand       0.0                 NaN   \n",
       "4  Metric tons,  thousand      35.0                 NaN   \n",
       "\n",
       "                   category  \n",
       "0  additives_and_oxygenates  \n",
       "1  additives_and_oxygenates  \n",
       "2  additives_and_oxygenates  \n",
       "3  additives_and_oxygenates  \n",
       "4  additives_and_oxygenates  "
      ]
     },
     "execution_count": 36,
     "metadata": {},
     "output_type": "execute_result"
    }
   ],
   "source": [
    "df.head()"
   ]
  },
  {
   "cell_type": "code",
   "execution_count": 37,
   "metadata": {
    "scrolled": false
   },
   "outputs": [
    {
     "name": "stdout",
     "output_type": "stream",
     "text": [
      "<class 'pandas.core.frame.DataFrame'>\n",
      "Int64Index: 1189482 entries, 0 to 89482\n",
      "Data columns (total 7 columns):\n",
      " #   Column                 Non-Null Count    Dtype  \n",
      "---  ------                 --------------    -----  \n",
      " 0   country_or_area        1189482 non-null  object \n",
      " 1   commodity_transaction  1189482 non-null  object \n",
      " 2   year                   1189482 non-null  int64  \n",
      " 3   unit                   1189482 non-null  object \n",
      " 4   quantity               1189482 non-null  float64\n",
      " 5   quantity_footnotes     163946 non-null   float64\n",
      " 6   category               1189482 non-null  object \n",
      "dtypes: float64(2), int64(1), object(4)\n",
      "memory usage: 72.6+ MB\n"
     ]
    }
   ],
   "source": [
    "df.info()"
   ]
  },
  {
   "cell_type": "code",
   "execution_count": 38,
   "metadata": {
    "scrolled": true
   },
   "outputs": [
    {
     "data": {
      "text/html": [
       "<div>\n",
       "<style scoped>\n",
       "    .dataframe tbody tr th:only-of-type {\n",
       "        vertical-align: middle;\n",
       "    }\n",
       "\n",
       "    .dataframe tbody tr th {\n",
       "        vertical-align: top;\n",
       "    }\n",
       "\n",
       "    .dataframe thead th {\n",
       "        text-align: right;\n",
       "    }\n",
       "</style>\n",
       "<table border=\"1\" class=\"dataframe\">\n",
       "  <thead>\n",
       "    <tr style=\"text-align: right;\">\n",
       "      <th></th>\n",
       "      <th>country_or_area</th>\n",
       "      <th>commodity_transaction</th>\n",
       "      <th>year</th>\n",
       "      <th>unit</th>\n",
       "      <th>quantity</th>\n",
       "      <th>quantity_footnotes</th>\n",
       "      <th>category</th>\n",
       "    </tr>\n",
       "  </thead>\n",
       "  <tbody>\n",
       "    <tr>\n",
       "      <th>622</th>\n",
       "      <td>Colombia</td>\n",
       "      <td>Additives and Oxygenates - Production</td>\n",
       "      <td>2014</td>\n",
       "      <td>Metric tons,  thousand</td>\n",
       "      <td>34.53</td>\n",
       "      <td>1.0</td>\n",
       "      <td>additives_and_oxygenates</td>\n",
       "    </tr>\n",
       "    <tr>\n",
       "      <th>1369</th>\n",
       "      <td>Colombia</td>\n",
       "      <td>Additives and Oxygenates - Total energy supply</td>\n",
       "      <td>2014</td>\n",
       "      <td>Metric tons,  thousand</td>\n",
       "      <td>34.53</td>\n",
       "      <td>1.0</td>\n",
       "      <td>additives_and_oxygenates</td>\n",
       "    </tr>\n",
       "    <tr>\n",
       "      <th>1886</th>\n",
       "      <td>Colombia</td>\n",
       "      <td>Additives and Oxygenates - transfers and recyc...</td>\n",
       "      <td>2014</td>\n",
       "      <td>Metric tons,  thousand</td>\n",
       "      <td>34.53</td>\n",
       "      <td>1.0</td>\n",
       "      <td>additives_and_oxygenates</td>\n",
       "    </tr>\n",
       "    <tr>\n",
       "      <th>2250</th>\n",
       "      <td>Jordan</td>\n",
       "      <td>Additives and Oxygenates - Transformation</td>\n",
       "      <td>2014</td>\n",
       "      <td>Metric tons,  thousand</td>\n",
       "      <td>103.00</td>\n",
       "      <td>1.0</td>\n",
       "      <td>additives_and_oxygenates</td>\n",
       "    </tr>\n",
       "    <tr>\n",
       "      <th>2251</th>\n",
       "      <td>Jordan</td>\n",
       "      <td>Additives and Oxygenates - Transformation</td>\n",
       "      <td>2013</td>\n",
       "      <td>Metric tons,  thousand</td>\n",
       "      <td>101.00</td>\n",
       "      <td>1.0</td>\n",
       "      <td>additives_and_oxygenates</td>\n",
       "    </tr>\n",
       "    <tr>\n",
       "      <th>...</th>\n",
       "      <td>...</td>\n",
       "      <td>...</td>\n",
       "      <td>...</td>\n",
       "      <td>...</td>\n",
       "      <td>...</td>\n",
       "      <td>...</td>\n",
       "      <td>...</td>\n",
       "    </tr>\n",
       "    <tr>\n",
       "      <th>89470</th>\n",
       "      <td>Vanuatu</td>\n",
       "      <td>Electricity - total wind production</td>\n",
       "      <td>2013</td>\n",
       "      <td>Kilowatt-hours, million</td>\n",
       "      <td>3.00</td>\n",
       "      <td>1.0</td>\n",
       "      <td>wind_electricity</td>\n",
       "    </tr>\n",
       "    <tr>\n",
       "      <th>89472</th>\n",
       "      <td>Vanuatu</td>\n",
       "      <td>Electricity - total wind production</td>\n",
       "      <td>2011</td>\n",
       "      <td>Kilowatt-hours, million</td>\n",
       "      <td>5.00</td>\n",
       "      <td>1.0</td>\n",
       "      <td>wind_electricity</td>\n",
       "    </tr>\n",
       "    <tr>\n",
       "      <th>89476</th>\n",
       "      <td>Viet Nam</td>\n",
       "      <td>Electricity - total wind production</td>\n",
       "      <td>2014</td>\n",
       "      <td>Kilowatt-hours, million</td>\n",
       "      <td>300.00</td>\n",
       "      <td>1.0</td>\n",
       "      <td>wind_electricity</td>\n",
       "    </tr>\n",
       "    <tr>\n",
       "      <th>89477</th>\n",
       "      <td>Viet Nam</td>\n",
       "      <td>Electricity - total wind production</td>\n",
       "      <td>2013</td>\n",
       "      <td>Kilowatt-hours, million</td>\n",
       "      <td>92.00</td>\n",
       "      <td>1.0</td>\n",
       "      <td>wind_electricity</td>\n",
       "    </tr>\n",
       "    <tr>\n",
       "      <th>89478</th>\n",
       "      <td>Viet Nam</td>\n",
       "      <td>Electricity - total wind production</td>\n",
       "      <td>2012</td>\n",
       "      <td>Kilowatt-hours, million</td>\n",
       "      <td>92.00</td>\n",
       "      <td>1.0</td>\n",
       "      <td>wind_electricity</td>\n",
       "    </tr>\n",
       "  </tbody>\n",
       "</table>\n",
       "<p>163946 rows × 7 columns</p>\n",
       "</div>"
      ],
      "text/plain": [
       "      country_or_area                              commodity_transaction  \\\n",
       "622          Colombia              Additives and Oxygenates - Production   \n",
       "1369         Colombia     Additives and Oxygenates - Total energy supply   \n",
       "1886         Colombia  Additives and Oxygenates - transfers and recyc...   \n",
       "2250           Jordan          Additives and Oxygenates - Transformation   \n",
       "2251           Jordan          Additives and Oxygenates - Transformation   \n",
       "...               ...                                                ...   \n",
       "89470         Vanuatu                Electricity - total wind production   \n",
       "89472         Vanuatu                Electricity - total wind production   \n",
       "89476        Viet Nam                Electricity - total wind production   \n",
       "89477        Viet Nam                Electricity - total wind production   \n",
       "89478        Viet Nam                Electricity - total wind production   \n",
       "\n",
       "       year                     unit  quantity  quantity_footnotes  \\\n",
       "622    2014   Metric tons,  thousand     34.53                 1.0   \n",
       "1369   2014   Metric tons,  thousand     34.53                 1.0   \n",
       "1886   2014   Metric tons,  thousand     34.53                 1.0   \n",
       "2250   2014   Metric tons,  thousand    103.00                 1.0   \n",
       "2251   2013   Metric tons,  thousand    101.00                 1.0   \n",
       "...     ...                      ...       ...                 ...   \n",
       "89470  2013  Kilowatt-hours, million      3.00                 1.0   \n",
       "89472  2011  Kilowatt-hours, million      5.00                 1.0   \n",
       "89476  2014  Kilowatt-hours, million    300.00                 1.0   \n",
       "89477  2013  Kilowatt-hours, million     92.00                 1.0   \n",
       "89478  2012  Kilowatt-hours, million     92.00                 1.0   \n",
       "\n",
       "                       category  \n",
       "622    additives_and_oxygenates  \n",
       "1369   additives_and_oxygenates  \n",
       "1886   additives_and_oxygenates  \n",
       "2250   additives_and_oxygenates  \n",
       "2251   additives_and_oxygenates  \n",
       "...                         ...  \n",
       "89470          wind_electricity  \n",
       "89472          wind_electricity  \n",
       "89476          wind_electricity  \n",
       "89477          wind_electricity  \n",
       "89478          wind_electricity  \n",
       "\n",
       "[163946 rows x 7 columns]"
      ]
     },
     "execution_count": 38,
     "metadata": {},
     "output_type": "execute_result"
    }
   ],
   "source": [
    "footnotes_nan = df[df['quantity_footnotes'].isna() != True]\n",
    "footnotes_nan"
   ]
  },
  {
   "cell_type": "code",
   "execution_count": 39,
   "metadata": {},
   "outputs": [
    {
     "data": {
      "image/png": "[encoded data removed]",
      "text/plain": [
       "<Figure size 360x360 with 1 Axes>"
      ]
     },
     "metadata": {
      "needs_background": "light"
     },
     "output_type": "display_data"
    }
   ],
   "source": [
    "sns.catplot(x='quantity_footnotes',\n",
    "            data=df,\n",
    "            kind='count')\n",
    "plt.show()"
   ]
  },
  {
   "cell_type": "markdown",
   "metadata": {},
   "source": [
    "I wanted to check whether any commodities were expressed in multiple units. Below is an attempt to display this"
   ]
  },
  {
   "cell_type": "code",
   "execution_count": 41,
   "metadata": {
    "scrolled": true
   },
   "outputs": [
    {
     "name": "stdout",
     "output_type": "stream",
     "text": [
      "<class 'pandas.core.frame.DataFrame'>\n",
      "Int64Index: 2468 entries, 0 to 88116\n",
      "Data columns (total 7 columns):\n",
      " #   Column                 Non-Null Count  Dtype  \n",
      "---  ------                 --------------  -----  \n",
      " 0   country_or_area        2468 non-null   object \n",
      " 1   commodity_transaction  2468 non-null   object \n",
      " 2   year                   2468 non-null   int64  \n",
      " 3   unit                   2468 non-null   object \n",
      " 4   quantity               2468 non-null   float64\n",
      " 5   quantity_footnotes     252 non-null    float64\n",
      " 6   category               2468 non-null   object \n",
      "dtypes: float64(2), int64(1), object(4)\n",
      "memory usage: 154.2+ KB\n"
     ]
    }
   ],
   "source": [
    "categories_and_units = df.drop_duplicates(['unit', 'commodity_transaction'])\n",
    "\n",
    "categories_and_units.info()\n"
   ]
  },
  {
   "cell_type": "code",
   "execution_count": 42,
   "metadata": {
    "scrolled": false
   },
   "outputs": [
    {
     "data": {
      "text/plain": [
       "2452"
      ]
     },
     "execution_count": 42,
     "metadata": {},
     "output_type": "execute_result"
    }
   ],
   "source": [
    "categories_and_units['commodity_transaction'].nunique()"
   ]
  },
  {
   "cell_type": "markdown",
   "metadata": {},
   "source": [
    "There are 2452 commods with 2468 rows suggesting some commods have multilpe units.\n",
    "\n",
    "Below we count the instance of a commodity_transaction and only output those that are repeated. This shows 16 repeats meaning we should be careful using plots with these commodities"
   ]
  },
  {
   "cell_type": "code",
   "execution_count": 83,
   "metadata": {
    "scrolled": false
   },
   "outputs": [
    {
     "data": {
      "text/plain": [
       "From combustible fuels – Main activity                 2\n",
       "Nuclear – Main activity                                2\n",
       "Nuclear – Main activity – CHP plants                   2\n",
       "Geothermal – Main activity – CHP plants                2\n",
       "From other sources – Main activity                     2\n",
       "From combustible fuels – Autoproducer                  2\n",
       "Solar thermal – Autoproducer                           2\n",
       "Geothermal – Autoproducer – CHP plants                 2\n",
       "From other sources – Main activity – CHP plants        2\n",
       "Geothermal – Autoproducer                              2\n",
       "From combustible fuels – Autoproducer – CHP plants     2\n",
       "From other sources – Autoproducer – CHP plants         2\n",
       "Geothermal – Main activity                             2\n",
       "Solar thermal – Main activity                          2\n",
       "From other sources – Autoproducer                      2\n",
       "From combustible fuels – Main activity – CHP plants    2\n",
       "Name: commodity_transaction, dtype: int64"
      ]
     },
     "execution_count": 83,
     "metadata": {},
     "output_type": "execute_result"
    }
   ],
   "source": [
    "multi_units = categories_and_units['commodity_transaction'].value_counts(sort= True)\n",
    "multi_units[multi_units == 2]"
   ]
  },
  {
   "cell_type": "code",
   "execution_count": 94,
   "metadata": {},
   "outputs": [
    {
     "data": {
      "text/plain": [
       "['From combustible fuels – Main activity',\n",
       " 'Nuclear – Main activity',\n",
       " 'Nuclear – Main activity – CHP plants',\n",
       " 'Geothermal – Main activity – CHP plants',\n",
       " 'From other sources – Main activity',\n",
       " 'From combustible fuels – Autoproducer',\n",
       " 'Solar thermal – Autoproducer',\n",
       " 'Geothermal – Autoproducer – CHP plants',\n",
       " 'From other sources – Main activity – CHP plants',\n",
       " 'Geothermal – Autoproducer',\n",
       " 'From combustible fuels – Autoproducer – CHP plants',\n",
       " 'From other sources – Autoproducer – CHP plants',\n",
       " 'Geothermal – Main activity',\n",
       " 'Solar thermal – Main activity',\n",
       " 'From other sources – Autoproducer',\n",
       " 'From combustible fuels – Main activity – CHP plants']"
      ]
     },
     "execution_count": 94,
     "metadata": {},
     "output_type": "execute_result"
    }
   ],
   "source": [
    "multi_units_list = list(multi_units.index[multi_units == 2])\n",
    "multi_units_list"
   ]
  },
  {
   "cell_type": "markdown",
   "metadata": {},
   "source": [
    "Below is an analysis of the energy usage of different countries\n",
    "\n",
    " \n",
    "\n",
    "First goals are to get an overview of total energy, followed by specific fuel types"
   ]
  },
  {
   "cell_type": "code",
   "execution_count": 77,
   "metadata": {},
   "outputs": [
    {
     "data": {
      "text/plain": [
       "2"
      ]
     },
     "execution_count": 77,
     "metadata": {},
     "output_type": "execute_result"
    }
   ],
   "source": [
    "multi_units['Nuclear – Main activity']"
   ]
  },
  {
   "cell_type": "code",
   "execution_count": 43,
   "metadata": {},
   "outputs": [
    {
     "data": {
      "text/plain": [
       "country_or_area  category                                                   \n",
       "Afghanistan      aviation_gasoline                                              2.400000e+01\n",
       "                 charcoal                                                       1.259391e+04\n",
       "                 electricity_net_installed_capacity_of_electric_power_plants    4.822800e+04\n",
       "                 falling_water                                                  3.940000e+05\n",
       "                 fuel_oil                                                       1.520000e+02\n",
       "                                                                                    ...     \n",
       "Zimbabwe         other_vegetal_material_and_residues                            1.387903e+07\n",
       "                 paraffin_waxes                                                 4.800000e+01\n",
       "                 thermal_electricity                                            1.085878e+05\n",
       "                 total_electricity                                              1.961685e+06\n",
       "                 uranium                                                        1.400000e+03\n",
       "Name: quantity, Length: 6387, dtype: float64"
      ]
     },
     "execution_count": 43,
     "metadata": {},
     "output_type": "execute_result"
    }
   ],
   "source": [
    "fuel_total_by_country = df.groupby(['country_or_area', 'category'])['quantity'].sum()\n",
    "fuel_total_by_country"
   ]
  },
  {
   "cell_type": "code",
   "execution_count": 44,
   "metadata": {},
   "outputs": [
    {
     "data": {
      "text/html": [
       "<div>\n",
       "<style scoped>\n",
       "    .dataframe tbody tr th:only-of-type {\n",
       "        vertical-align: middle;\n",
       "    }\n",
       "\n",
       "    .dataframe tbody tr th {\n",
       "        vertical-align: top;\n",
       "    }\n",
       "\n",
       "    .dataframe thead th {\n",
       "        text-align: right;\n",
       "    }\n",
       "</style>\n",
       "<table border=\"1\" class=\"dataframe\">\n",
       "  <thead>\n",
       "    <tr style=\"text-align: right;\">\n",
       "      <th></th>\n",
       "      <th>quantity</th>\n",
       "    </tr>\n",
       "    <tr>\n",
       "      <th>country_or_area</th>\n",
       "      <th></th>\n",
       "    </tr>\n",
       "  </thead>\n",
       "  <tbody>\n",
       "    <tr>\n",
       "      <th>China</th>\n",
       "      <td>101641.200000</td>\n",
       "    </tr>\n",
       "    <tr>\n",
       "      <th>United States</th>\n",
       "      <td>40094.680000</td>\n",
       "    </tr>\n",
       "    <tr>\n",
       "      <th>Germany</th>\n",
       "      <td>21780.125000</td>\n",
       "    </tr>\n",
       "    <tr>\n",
       "      <th>Spain</th>\n",
       "      <td>17676.880000</td>\n",
       "    </tr>\n",
       "    <tr>\n",
       "      <th>India</th>\n",
       "      <td>8356.000000</td>\n",
       "    </tr>\n",
       "    <tr>\n",
       "      <th>...</th>\n",
       "      <td>...</td>\n",
       "    </tr>\n",
       "    <tr>\n",
       "      <th>Azerbaijan</th>\n",
       "      <td>1.000000</td>\n",
       "    </tr>\n",
       "    <tr>\n",
       "      <th>St. Helena and Depend.</th>\n",
       "      <td>0.908571</td>\n",
       "    </tr>\n",
       "    <tr>\n",
       "      <th>St. Pierre-Miquelon</th>\n",
       "      <td>0.856667</td>\n",
       "    </tr>\n",
       "    <tr>\n",
       "      <th>French Polynesia</th>\n",
       "      <td>0.464500</td>\n",
       "    </tr>\n",
       "    <tr>\n",
       "      <th>Republic of Moldova</th>\n",
       "      <td>0.285714</td>\n",
       "    </tr>\n",
       "  </tbody>\n",
       "</table>\n",
       "<p>99 rows × 1 columns</p>\n",
       "</div>"
      ],
      "text/plain": [
       "                             quantity\n",
       "country_or_area                      \n",
       "China                   101641.200000\n",
       "United States            40094.680000\n",
       "Germany                  21780.125000\n",
       "Spain                    17676.880000\n",
       "India                     8356.000000\n",
       "...                               ...\n",
       "Azerbaijan                   1.000000\n",
       "St. Helena and Depend.       0.908571\n",
       "St. Pierre-Miquelon          0.856667\n",
       "French Polynesia             0.464500\n",
       "Republic of Moldova          0.285714\n",
       "\n",
       "[99 rows x 1 columns]"
      ]
     },
     "execution_count": 44,
     "metadata": {},
     "output_type": "execute_result"
    }
   ],
   "source": [
    "fuel_total_per_country = df[df['category'] == 'wind_electricity'].pivot_table(index = 'country_or_area', values = 'quantity', fill_value = True).sort_values('quantity', ascending = False)\n",
    "fuel_total_per_country"
   ]
  }
 ],
 "metadata": {
  "kernelspec": {
   "display_name": "Python 3",
   "language": "python",
   "name": "python3"
  },
  "language_info": {
   "codemirror_mode": {
    "name": "ipython",
    "version": 3
   },
   "file_extension": ".py",
   "mimetype": "text/x-python",
   "name": "python",
   "nbconvert_exporter": "python",
   "pygments_lexer": "ipython3",
   "version": "3.8.5"
  }
 },
 "nbformat": 4,
 "nbformat_minor": 4
}
