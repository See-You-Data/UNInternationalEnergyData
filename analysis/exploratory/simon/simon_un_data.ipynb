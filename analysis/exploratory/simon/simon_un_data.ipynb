{
 "cells": [
  {
   "cell_type": "markdown",
   "metadata": {},
   "source": [
    "# Simon UN Data\n",
    "This notebook attempts to:\n",
    "- Read in raw data (currently split into multiple files)\n",
    "- Assemble the raw data into a single .csv file\n",
    "- Save the combined file to a local directory\n",
    "- Assess the data quality of the combined .csv"
   ]
  },
  {
   "cell_type": "code",
   "execution_count": 1,
   "metadata": {},
   "outputs": [],
   "source": [
    "%load_ext lab_black\n",
    "%load_ext autoreload\n",
    "%load_ext watermark"
   ]
  },
  {
   "cell_type": "code",
   "execution_count": 2,
   "metadata": {},
   "outputs": [],
   "source": [
    "%autoreload 2"
   ]
  },
  {
   "cell_type": "code",
   "execution_count": 3,
   "metadata": {},
   "outputs": [
    {
     "name": "stdout",
     "output_type": "stream",
     "text": [
      "Author: Simon-Lee-UK\n",
      "\n",
      "Last updated: 2021-02-18 22:01:57GMT\n",
      "\n",
      "pandas: 1.2.1\n",
      "\n"
     ]
    }
   ],
   "source": [
    "%watermark -ntz -p pandas -a Simon-Lee-UK -u -d -t -z"
   ]
  },
  {
   "cell_type": "code",
   "execution_count": 4,
   "metadata": {},
   "outputs": [],
   "source": [
    "import sys\n",
    "from pathlib import Path\n",
    "import pandas as pd\n",
    "from pandas_profiling import ProfileReport\n",
    "from pyprojroot import here\n",
    "\n",
    "split_data_path = (\n",
    "    here() / \"raw_data\"\n",
    ")  # here() returns the root of the repository as a pathlib object\n",
    "interim_data_path = here() / \"data\" / \"interim\""
   ]
  },
  {
   "cell_type": "markdown",
   "metadata": {},
   "source": [
    "## Read in split data\n",
    "To start, read in the first file:"
   ]
  },
  {
   "cell_type": "code",
   "execution_count": 5,
   "metadata": {},
   "outputs": [],
   "source": [
    "file_prefix = \"all_energy_statistics\"\n",
    "example_path = split_data_path / (file_prefix + \"1.csv\")\n",
    "df_first = pd.read_csv(example_path, header=0, nrows=10)"
   ]
  },
  {
   "cell_type": "code",
   "execution_count": 6,
   "metadata": {},
   "outputs": [
    {
     "data": {
      "text/html": [
       "<div>\n",
       "<style scoped>\n",
       "    .dataframe tbody tr th:only-of-type {\n",
       "        vertical-align: middle;\n",
       "    }\n",
       "\n",
       "    .dataframe tbody tr th {\n",
       "        vertical-align: top;\n",
       "    }\n",
       "\n",
       "    .dataframe thead th {\n",
       "        text-align: right;\n",
       "    }\n",
       "</style>\n",
       "<table border=\"1\" class=\"dataframe\">\n",
       "  <thead>\n",
       "    <tr style=\"text-align: right;\">\n",
       "      <th></th>\n",
       "      <th>country_or_area</th>\n",
       "      <th>commodity_transaction</th>\n",
       "      <th>year</th>\n",
       "      <th>unit</th>\n",
       "      <th>quantity</th>\n",
       "      <th>quantity_footnotes</th>\n",
       "      <th>category</th>\n",
       "    </tr>\n",
       "  </thead>\n",
       "  <tbody>\n",
       "    <tr>\n",
       "      <th>0</th>\n",
       "      <td>Austria</td>\n",
       "      <td>Additives and Oxygenates - Exports</td>\n",
       "      <td>1996</td>\n",
       "      <td>Metric tons,  thousand</td>\n",
       "      <td>5</td>\n",
       "      <td>NaN</td>\n",
       "      <td>additives_and_oxygenates</td>\n",
       "    </tr>\n",
       "    <tr>\n",
       "      <th>1</th>\n",
       "      <td>Austria</td>\n",
       "      <td>Additives and Oxygenates - Exports</td>\n",
       "      <td>1995</td>\n",
       "      <td>Metric tons,  thousand</td>\n",
       "      <td>17</td>\n",
       "      <td>NaN</td>\n",
       "      <td>additives_and_oxygenates</td>\n",
       "    </tr>\n",
       "    <tr>\n",
       "      <th>2</th>\n",
       "      <td>Belgium</td>\n",
       "      <td>Additives and Oxygenates - Exports</td>\n",
       "      <td>2014</td>\n",
       "      <td>Metric tons,  thousand</td>\n",
       "      <td>0</td>\n",
       "      <td>NaN</td>\n",
       "      <td>additives_and_oxygenates</td>\n",
       "    </tr>\n",
       "    <tr>\n",
       "      <th>3</th>\n",
       "      <td>Belgium</td>\n",
       "      <td>Additives and Oxygenates - Exports</td>\n",
       "      <td>2013</td>\n",
       "      <td>Metric tons,  thousand</td>\n",
       "      <td>0</td>\n",
       "      <td>NaN</td>\n",
       "      <td>additives_and_oxygenates</td>\n",
       "    </tr>\n",
       "    <tr>\n",
       "      <th>4</th>\n",
       "      <td>Belgium</td>\n",
       "      <td>Additives and Oxygenates - Exports</td>\n",
       "      <td>2012</td>\n",
       "      <td>Metric tons,  thousand</td>\n",
       "      <td>35</td>\n",
       "      <td>NaN</td>\n",
       "      <td>additives_and_oxygenates</td>\n",
       "    </tr>\n",
       "  </tbody>\n",
       "</table>\n",
       "</div>"
      ],
      "text/plain": [
       "  country_or_area               commodity_transaction  year  \\\n",
       "0         Austria  Additives and Oxygenates - Exports  1996   \n",
       "1         Austria  Additives and Oxygenates - Exports  1995   \n",
       "2         Belgium  Additives and Oxygenates - Exports  2014   \n",
       "3         Belgium  Additives and Oxygenates - Exports  2013   \n",
       "4         Belgium  Additives and Oxygenates - Exports  2012   \n",
       "\n",
       "                     unit  quantity  quantity_footnotes  \\\n",
       "0  Metric tons,  thousand         5                 NaN   \n",
       "1  Metric tons,  thousand        17                 NaN   \n",
       "2  Metric tons,  thousand         0                 NaN   \n",
       "3  Metric tons,  thousand         0                 NaN   \n",
       "4  Metric tons,  thousand        35                 NaN   \n",
       "\n",
       "                   category  \n",
       "0  additives_and_oxygenates  \n",
       "1  additives_and_oxygenates  \n",
       "2  additives_and_oxygenates  \n",
       "3  additives_and_oxygenates  \n",
       "4  additives_and_oxygenates  "
      ]
     },
     "execution_count": 6,
     "metadata": {},
     "output_type": "execute_result"
    }
   ],
   "source": [
    "df_first.head(5)"
   ]
  },
  {
   "cell_type": "markdown",
   "metadata": {},
   "source": [
    "Read in the second file:"
   ]
  },
  {
   "cell_type": "code",
   "execution_count": 7,
   "metadata": {},
   "outputs": [],
   "source": [
    "second_path = split_data_path / (file_prefix + \"2.csv\")\n",
    "df_second = pd.read_csv(second_path, header=None, nrows=10)"
   ]
  },
  {
   "cell_type": "code",
   "execution_count": 8,
   "metadata": {},
   "outputs": [
    {
     "data": {
      "text/html": [
       "<div>\n",
       "<style scoped>\n",
       "    .dataframe tbody tr th:only-of-type {\n",
       "        vertical-align: middle;\n",
       "    }\n",
       "\n",
       "    .dataframe tbody tr th {\n",
       "        vertical-align: top;\n",
       "    }\n",
       "\n",
       "    .dataframe thead th {\n",
       "        text-align: right;\n",
       "    }\n",
       "</style>\n",
       "<table border=\"1\" class=\"dataframe\">\n",
       "  <thead>\n",
       "    <tr style=\"text-align: right;\">\n",
       "      <th></th>\n",
       "      <th>0</th>\n",
       "      <th>1</th>\n",
       "      <th>2</th>\n",
       "      <th>3</th>\n",
       "      <th>4</th>\n",
       "      <th>5</th>\n",
       "      <th>6</th>\n",
       "    </tr>\n",
       "  </thead>\n",
       "  <tbody>\n",
       "    <tr>\n",
       "      <th>0</th>\n",
       "      <td>India</td>\n",
       "      <td>Brown coal briquettes - final consumption</td>\n",
       "      <td>1994</td>\n",
       "      <td>Metric tons,  thousand</td>\n",
       "      <td>1580</td>\n",
       "      <td>NaN</td>\n",
       "      <td>brown_coal_briquettes</td>\n",
       "    </tr>\n",
       "    <tr>\n",
       "      <th>1</th>\n",
       "      <td>India</td>\n",
       "      <td>Brown coal briquettes - final consumption</td>\n",
       "      <td>1993</td>\n",
       "      <td>Metric tons,  thousand</td>\n",
       "      <td>1494</td>\n",
       "      <td>NaN</td>\n",
       "      <td>brown_coal_briquettes</td>\n",
       "    </tr>\n",
       "    <tr>\n",
       "      <th>2</th>\n",
       "      <td>India</td>\n",
       "      <td>Brown coal briquettes - final consumption</td>\n",
       "      <td>1992</td>\n",
       "      <td>Metric tons,  thousand</td>\n",
       "      <td>1139</td>\n",
       "      <td>NaN</td>\n",
       "      <td>brown_coal_briquettes</td>\n",
       "    </tr>\n",
       "    <tr>\n",
       "      <th>3</th>\n",
       "      <td>India</td>\n",
       "      <td>Brown coal briquettes - final consumption</td>\n",
       "      <td>1991</td>\n",
       "      <td>Metric tons,  thousand</td>\n",
       "      <td>1777</td>\n",
       "      <td>NaN</td>\n",
       "      <td>brown_coal_briquettes</td>\n",
       "    </tr>\n",
       "    <tr>\n",
       "      <th>4</th>\n",
       "      <td>India</td>\n",
       "      <td>Brown coal briquettes - final consumption</td>\n",
       "      <td>1990</td>\n",
       "      <td>Metric tons,  thousand</td>\n",
       "      <td>1678</td>\n",
       "      <td>NaN</td>\n",
       "      <td>brown_coal_briquettes</td>\n",
       "    </tr>\n",
       "  </tbody>\n",
       "</table>\n",
       "</div>"
      ],
      "text/plain": [
       "       0                                          1     2  \\\n",
       "0  India  Brown coal briquettes - final consumption  1994   \n",
       "1  India  Brown coal briquettes - final consumption  1993   \n",
       "2  India  Brown coal briquettes - final consumption  1992   \n",
       "3  India  Brown coal briquettes - final consumption  1991   \n",
       "4  India  Brown coal briquettes - final consumption  1990   \n",
       "\n",
       "                        3     4   5                      6  \n",
       "0  Metric tons,  thousand  1580 NaN  brown_coal_briquettes  \n",
       "1  Metric tons,  thousand  1494 NaN  brown_coal_briquettes  \n",
       "2  Metric tons,  thousand  1139 NaN  brown_coal_briquettes  \n",
       "3  Metric tons,  thousand  1777 NaN  brown_coal_briquettes  \n",
       "4  Metric tons,  thousand  1678 NaN  brown_coal_briquettes  "
      ]
     },
     "execution_count": 8,
     "metadata": {},
     "output_type": "execute_result"
    }
   ],
   "source": [
    "df_second.head(5)"
   ]
  },
  {
   "cell_type": "code",
   "execution_count": 9,
   "metadata": {},
   "outputs": [],
   "source": [
    "def load_un_data(\n",
    "    raw_data_dir,\n",
    "    interim_data_dir,\n",
    "    un_data_filename=\"un_energy_data.csv\",\n",
    "    file_prefix=\"all_energy_statistics\",\n",
    "    first_suffix=1,\n",
    "    force_refresh=False,\n",
    "):\n",
    "    \"\"\"\n",
    "    Desc.\n",
    "\n",
    "    \"\"\"\n",
    "    combined_file_path = Path(interim_data_dir) / un_data_filename\n",
    "\n",
    "    if not combined_file_path.is_file() or force_refresh:\n",
    "        print(\n",
    "            f\"No existing combined data found at: {combined_file_path}\\n\"\n",
    "            f\"Attempting to combine split data from: {raw_data_dir}...\\n\"\n",
    "        )\n",
    "        combined_df = combine_split_data(\n",
    "            raw_data_dir, file_prefix=file_prefix, first_suffix=first_suffix\n",
    "        )\n",
    "        # execute code to pre-process data and save to the interim directory\n",
    "        print(f\"Saving combined data set to: {combined_file_path}\\n\")\n",
    "        combined_df.to_csv(combined_file_path, index=False)\n",
    "    else:\n",
    "        combined_df = pd.read_csv(combined_file_path)\n",
    "\n",
    "    return combined_df\n",
    "\n",
    "\n",
    "def combine_split_data(raw_data_dir, file_prefix, first_suffix):\n",
    "    \"\"\"\n",
    "    Combines .csv files in a given directory that match an input prefix-suffix convention; returns as a DataFrame.\n",
    "\n",
    "    Parameters\n",
    "    ----------\n",
    "    raw_data_dir : str / pathlib.PosixPath\n",
    "        The path to the directory containing all .csv files to be combined.\n",
    "    file_prefix : str\n",
    "        The consistent filename prefix used to identify those .csv files to be combined;\n",
    "        default value = 'all_energy_statistics'.\n",
    "    first_suffix : int / str\n",
    "        The numeric suffix found in the first .csv's filename (function assumes numerically ordered filenames);\n",
    "        default value = 1. The function assumes that only this file contains column titles and that column order\n",
    "        in all subsequent files is identical to that of the first file.\n",
    "\n",
    "    Returns\n",
    "    -------\n",
    "    combined_df : pandas.DataFrame\n",
    "        A pandas DataFrame containing data from all .csv files matching the convention defined via prefix and\n",
    "        suffix arguments.\n",
    "\n",
    "    Raises\n",
    "    ------\n",
    "    ValueError\n",
    "        Raised when the initial .csv file cannot be found based on input 'raw_data_dir', 'file_prefix' and 'first_suffix'.\n",
    "\n",
    "    \"\"\"\n",
    "    indv_files = []\n",
    "    live_suffix = int(first_suffix)\n",
    "    while True:\n",
    "        try:\n",
    "            live_filename = f\"{file_prefix}{live_suffix}.csv\"\n",
    "            live_path = raw_data_dir / live_filename\n",
    "            if len(indv_files) == 0:\n",
    "                first_file = pd.read_csv(live_path, header=0)\n",
    "                column_titles = first_file.columns.to_list()\n",
    "                indv_files.append(first_file)\n",
    "            else:\n",
    "                subsequent_file = pd.read_csv(live_path, header=0, names=column_titles)\n",
    "                indv_files.append(subsequent_file)\n",
    "            live_suffix += 1\n",
    "        except FileNotFoundError as err:\n",
    "            if len(indv_files) == 0:\n",
    "                raise ValueError(\n",
    "                    f\"No initial .csv file found at: {live_path}\\n\"\n",
    "                    f\"Please check the 'raw_data_dir', 'file_prefix' and 'first_suffix' arguments.\"\n",
    "                ) from err\n",
    "            else:\n",
    "                print(f\"Successfully combined {len(indv_files)} files.\")\n",
    "                break\n",
    "\n",
    "    combined_df = pd.concat(indv_files, axis=\"index\", ignore_index=True)\n",
    "\n",
    "    return combined_df"
   ]
  },
  {
   "cell_type": "code",
   "execution_count": 10,
   "metadata": {},
   "outputs": [
    {
     "name": "stdout",
     "output_type": "stream",
     "text": [
      "Successfully combined 12 files.\n"
     ]
    }
   ],
   "source": [
    "combined_file = combine_split_data(split_data_path, file_prefix, 1)"
   ]
  },
  {
   "cell_type": "code",
   "execution_count": 11,
   "metadata": {},
   "outputs": [
    {
     "data": {
      "text/plain": [
       "country_or_area           object\n",
       "commodity_transaction     object\n",
       "year                       int64\n",
       "unit                      object\n",
       "quantity                 float64\n",
       "quantity_footnotes       float64\n",
       "category                  object\n",
       "dtype: object"
      ]
     },
     "execution_count": 11,
     "metadata": {},
     "output_type": "execute_result"
    }
   ],
   "source": [
    "combined_file.dtypes"
   ]
  },
  {
   "cell_type": "code",
   "execution_count": 12,
   "metadata": {},
   "outputs": [
    {
     "data": {
      "text/plain": [
       "1189471"
      ]
     },
     "execution_count": 12,
     "metadata": {},
     "output_type": "execute_result"
    }
   ],
   "source": [
    "len(combined_file)"
   ]
  },
  {
   "cell_type": "code",
   "execution_count": 13,
   "metadata": {},
   "outputs": [],
   "source": [
    "report = ProfileReport(combined_file, title=\"Pandas Profiling Overview\")"
   ]
  },
  {
   "cell_type": "code",
   "execution_count": 14,
   "metadata": {},
   "outputs": [],
   "source": [
    "# report"
   ]
  },
  {
   "cell_type": "code",
   "execution_count": null,
   "metadata": {},
   "outputs": [],
   "source": []
  }
 ],
 "metadata": {
  "kernelspec": {
   "display_name": "Python 3",
   "language": "python",
   "name": "python3"
  },
  "language_info": {
   "codemirror_mode": {
    "name": "ipython",
    "version": 3
   },
   "file_extension": ".py",
   "mimetype": "text/x-python",
   "name": "python",
   "nbconvert_exporter": "python",
   "pygments_lexer": "ipython3",
   "version": "3.7.9"
  }
 },
 "nbformat": 4,
 "nbformat_minor": 4
}
