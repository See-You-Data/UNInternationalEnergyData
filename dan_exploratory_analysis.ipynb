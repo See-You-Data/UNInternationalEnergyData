{
 "cells": [
  {
   "cell_type": "code",
   "execution_count": 1,
   "metadata": {},
   "outputs": [],
   "source": [
    "import pandas as pd\n",
    "import numpy as np\n",
    "import matplotlib.pyplot as plt"
   ]
  },
  {
   "cell_type": "code",
   "execution_count": 2,
   "metadata": {},
   "outputs": [
    {
     "data": {
      "text/plain": [
       "(1189482, 7)"
      ]
     },
     "execution_count": 2,
     "metadata": {},
     "output_type": "execute_result"
    }
   ],
   "source": [
    "for i in range(1,13):\n",
    "    if i == 1:\n",
    "        df = pd.read_csv('raw_data/all_energy_statistics' + str(i) +'.csv')\n",
    "        df_cols = df.columns.to_list()\n",
    "    else:\n",
    "        df1 = pd.read_csv('raw_data/all_energy_statistics' + str(i) + '.csv',header=None)\n",
    "        df1.columns = df_cols\n",
    "        df = df.append(df1)   \n",
    "df.shape"
   ]
  },
  {
   "cell_type": "code",
   "execution_count": 18,
   "metadata": {},
   "outputs": [
    {
     "name": "stdout",
     "output_type": "stream",
     "text": [
      "\n",
      "\n",
      "country_or_area Contains the following unique values \n",
      "\n",
      "['Austria' 'Belgium' 'Czechia' 'Finland' 'France' 'Greece' 'Hungary'\n",
      " 'Italy' 'Korea, Republic of' 'Netherlands' 'Romania' 'Serbia' 'Slovakia'\n",
      " 'Ukraine' 'United Kingdom' 'United States' 'Brunei Darussalam' 'Bulgaria'\n",
      " 'Canada' 'Chile' 'Croatia' 'Iran (Islamic Rep. of)' 'Jordan' 'Lithuania'\n",
      " 'Mexico' 'Oman' 'Other Asia' 'Poland' 'Portugal' 'Spain' 'Sweden'\n",
      " 'Switzerland' 'T.F.Yug.Rep. Macedonia' 'Turkey' 'Uzbekistan' 'Argentina'\n",
      " 'Colombia' 'Germany' 'Norway' 'Australia' 'China, Macao SAR' 'Japan'\n",
      " 'Denmark' 'Ireland' 'Philippines' 'Bangladesh' 'Eritrea' 'Ethiopia'\n",
      " 'Lesotho' 'Nepal' 'Niger' 'Pakistan' 'Serbia and Montenegro' 'Tunisia'\n",
      " 'Botswana' 'Georgia' 'Republic of Moldova' 'Peru' 'South Africa'\n",
      " 'Iceland' 'Latvia' 'Luxembourg' 'Cuba' 'Kyrgyzstan' 'Singapore'\n",
      " 'Thailand' 'United Arab Emirates' 'Uruguay' 'Armenia' 'Fiji'\n",
      " \"Korea, Dem.Ppl's.Rep.\" 'Russian Federation' 'Swaziland' 'Zimbabwe'\n",
      " 'Afghanistan' 'Antigua and Barbuda' 'Azerbaijan' 'Bahamas' 'Belize'\n",
      " 'Bolivia (Plur. State of)' 'Brazil' 'Burkina Faso' 'Cameroon'\n",
      " 'Cayman Islands' 'Central African Rep.' 'China' 'Comoros' 'Congo'\n",
      " 'Costa Rica' \"Côte d'Ivoire\" 'Dem. Rep. of the Congo'\n",
      " 'Dominican Republic' 'Ecuador' 'Egypt' 'El Salvador' 'Estonia'\n",
      " 'Ethiopia, incl. Eritrea' 'Faeroe Islands' 'French Guiana'\n",
      " 'Germany, Fed. R. (former)' 'Greenland' 'Guatemala' 'Guinea' 'Guyana'\n",
      " 'Honduras' 'Indonesia' 'Israel' 'Jamaica' 'Jersey' 'Kazakhstan' 'Kenya'\n",
      " 'Kuwait' \"Lao People's Dem. Rep.\" 'Liberia' 'Libya' 'Malawi' 'Malaysia'\n",
      " 'Maldives' 'Mauritania' 'Mayotte' 'Morocco' 'Myanmar' 'Namibia'\n",
      " 'New Caledonia' 'New Zealand' 'Nicaragua' 'Niue' 'Panama'\n",
      " 'Papua New Guinea' 'Paraguay' 'Sao Tome and Principe' 'Senegal'\n",
      " 'Seychelles' 'Slovenia' 'Solomon Islands' 'Sri Lanka' 'Sudan (former)'\n",
      " 'Suriname' 'Togo' 'Tonga' 'Trinidad and Tobago' 'United Rep. of Tanzania'\n",
      " 'Venezuela (Bolivar. Rep.)' 'Yugoslavia, SFR (former)' 'Zambia' 'Algeria'\n",
      " 'Curaçao' 'Gabon' 'Malta' 'Neth. Antilles (former)' 'Sierra Leone'\n",
      " 'USSR (former)' 'Barbados' 'Benin' 'Chad' 'Djibouti' 'French Polynesia'\n",
      " 'Ghana' 'Grenada' 'Guadeloupe' 'Haiti' 'Iraq' 'Kiribati' 'Madagascar'\n",
      " 'Mali' 'Martinique' 'Pacific Islands (former)' 'Palau'\n",
      " 'St. Helena and Depend.' 'St. Vincent-Grenadines' 'Syrian Arab Republic'\n",
      " 'Uganda' 'Yemen' 'Yemen, Dem. (former)' 'Burundi' 'India' 'Mauritius'\n",
      " 'Mozambique' 'Nigeria' 'Réunion' 'Rwanda' 'Samoa' 'Somalia'\n",
      " 'St. Kitts-Nevis' 'Viet Nam' 'Belarus' 'Cyprus' 'Cabo Verde' 'Albania'\n",
      " 'Bahrain' 'Bosnia and Herzegovina' 'China, Hong Kong SAR'\n",
      " 'Czechoslovakia (former)' 'Angola' 'Bermuda' 'Bhutan' 'Equatorial Guinea'\n",
      " 'Lebanon' 'Saudi Arabia' 'St. Lucia' 'St. Pierre-Miquelon'\n",
      " 'State of Palestine' 'Tajikistan' 'German Dem. R. (former)' 'Anguilla'\n",
      " 'Mongolia' 'Montenegro' 'Cambodia' 'South Sudan' 'Sudan' 'Andorra'\n",
      " 'Aruba' 'Bonaire, St Eustatius, Saba' 'British Virgin Islands' 'Dominica'\n",
      " 'Falkland Is. (Malvinas)' 'Gambia' 'Gibraltar' 'Qatar'\n",
      " 'Sint Maarten (Dutch part)' 'Turkmenistan' 'Turks and Caicos Islands'\n",
      " 'Vanuatu' 'Guinea-Bissau' 'Micronesia (Fed. States of)' 'Timor-Leste'\n",
      " 'Yemen Arab Rep. (former)' 'American Samoa' 'Liechtenstein' 'Puerto Rico'\n",
      " 'Cook Islands' 'Guam' 'Guernsey' 'Isle of Man' 'Marshall Islands'\n",
      " 'Montserrat' 'Nauru' 'Northern Mariana Islands' 'Tuvalu'\n",
      " 'United States Virgin Is.' 'Wallis and Futuna Is.'\n",
      " 'Commonwealth of Independent States (CIS)' 'Antarctic Fisheries']\n",
      "\n",
      "\n",
      "commodity_transaction Contains the following unique values \n",
      "\n",
      "['Additives and Oxygenates - Exports' 'Additives and Oxygenates - Imports'\n",
      " 'Additives and Oxygenates - Production' ...\n",
      " 'White spirit and special boiling point industrial spirits - Transformation'\n",
      " 'White spirit and special boiling point industrial spirits - Transformation in petrochemical plants'\n",
      " 'Electricity - total wind production']\n",
      "\n",
      "\n",
      "year Contains the following unique values \n",
      "\n",
      "[1996 1995 2014 2013 2012 2011 2010 2009 1998 2008 2007 2006 2005 2004\n",
      " 2003 2002 2001 2000 1999 1997 1994 1993 1992 1991 1990]\n",
      "\n",
      "\n",
      "unit Contains the following unique values \n",
      "\n",
      "['Metric tons,  thousand' 'Terajoules' 'Kilowatts,  thousand'\n",
      " 'Kilowatt-hours, million' 'Cubic metres, thousand' 'Metric Tons']\n",
      "\n",
      "\n",
      "quantity Contains the following unique values \n",
      "\n",
      "[5.00000e+00 1.70000e+01 0.00000e+00 ... 1.41922e+05 1.20854e+05\n",
      " 9.51480e+04]\n",
      "\n",
      "\n",
      "quantity_footnotes Contains the following unique values \n",
      "\n",
      "[nan  1.]\n",
      "\n",
      "\n",
      "category Contains the following unique values \n",
      "\n",
      "['additives_and_oxygenates' 'animal_waste' 'anthracite'\n",
      " 'aviation_gasoline' 'bagasse' 'biodiesel' 'biogases' 'biogasoline'\n",
      " 'bitumen' 'black_liquor' 'blast_furnace_gas' 'brown_coal_briquettes'\n",
      " 'brown_coal' 'charcoal' 'coal_tar' 'coke_oven_coke' 'coking_coal'\n",
      " 'conventional_crude_oil' 'direct_use_of_geothermal_heat'\n",
      " 'direct_use_of_solar_thermal_heat'\n",
      " 'electricity_net_installed_capacity_of_electric_power_plants' 'ethane'\n",
      " 'falling_water' 'fuel_oil' 'fuelwood' 'gas_coke' 'gas_oil_diesel_oil'\n",
      " 'gasoline_type_jet_fuel' 'gasworks_gas' 'geothermal' 'hard_coal' 'heat'\n",
      " 'hydro' 'industrial_waste' 'kerosene_type_jet_fuel' 'lignite'\n",
      " 'liquified_petroleum_gas' 'lubricants' 'motor_gasoline'\n",
      " 'municipal_wastes' 'naphtha' 'natural_gas_including_lng'\n",
      " 'natural_gas_liquids' 'nuclear_electricity' 'of_which_biodiesel'\n",
      " 'of_which_biogasoline' 'oil_shale_oil_sands' 'other_bituminous_coal'\n",
      " 'other_coal_products' 'other_hydrocarbons' 'other_kerosene'\n",
      " 'other_liquid_biofuels' 'other_oil_products_n_e_c'\n",
      " 'other_recovered_gases' 'other_vegetal_material_and_residues'\n",
      " 'paraffin_waxes' 'patent_fuel' 'peat' 'peat_products' 'petroleum_coke'\n",
      " 'refinery_feedstocks' 'refinery_gas' 'solar_electricity'\n",
      " 'sub_bituminous_coal' 'thermal_electricity'\n",
      " 'tide_wave_and_ocean_electricity' 'total_electricity'\n",
      " 'total_refinery_output' 'uranium'\n",
      " 'white_spirit_and_special_boiling_point_industrial_spirits'\n",
      " 'wind_electricity']\n"
     ]
    }
   ],
   "source": [
    "for i in df_cols:\n",
    "    print('\\n\\n' + str(i) + ' Contains the following unique values ' + '\\n\\n' + str(df[i].unique()))\n",
    "    "
   ]
  },
  {
   "cell_type": "code",
   "execution_count": 13,
   "metadata": {},
   "outputs": [
    {
     "ename": "AttributeError",
     "evalue": "'numpy.ndarray' object has no attribute 'to_list'",
     "output_type": "error",
     "traceback": [
      "\u001b[1;31m---------------------------------------------------------------------------\u001b[0m",
      "\u001b[1;31mAttributeError\u001b[0m                            Traceback (most recent call last)",
      "\u001b[1;32m<ipython-input-13-e025baf29505>\u001b[0m in \u001b[0;36m<module>\u001b[1;34m\u001b[0m\n\u001b[1;32m----> 1\u001b[1;33m \u001b[0mdf\u001b[0m\u001b[1;33m[\u001b[0m\u001b[1;34m'category'\u001b[0m\u001b[1;33m]\u001b[0m\u001b[1;33m.\u001b[0m\u001b[0munique\u001b[0m\u001b[1;33m(\u001b[0m\u001b[1;33m)\u001b[0m\u001b[1;33m.\u001b[0m\u001b[0mto_list\u001b[0m\u001b[1;33m(\u001b[0m\u001b[1;33m)\u001b[0m\u001b[1;33m\u001b[0m\u001b[1;33m\u001b[0m\u001b[0m\n\u001b[0m",
      "\u001b[1;31mAttributeError\u001b[0m: 'numpy.ndarray' object has no attribute 'to_list'"
     ]
    }
   ],
   "source": [
    "df['category'].unique().to_list()"
   ]
  },
  {
   "cell_type": "code",
   "execution_count": null,
   "metadata": {},
   "outputs": [],
   "source": []
  }
 ],
 "metadata": {
  "kernelspec": {
   "display_name": "Python 3",
   "language": "python",
   "name": "python3"
  },
  "language_info": {
   "codemirror_mode": {
    "name": "ipython",
    "version": 3
   },
   "file_extension": ".py",
   "mimetype": "text/x-python",
   "name": "python",
   "nbconvert_exporter": "python",
   "pygments_lexer": "ipython3",
   "version": "3.7.4"
  }
 },
 "nbformat": 4,
 "nbformat_minor": 2
}
